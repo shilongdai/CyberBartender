{
 "cells": [
  {
   "cell_type": "code",
   "execution_count": 1,
   "metadata": {
    "collapsed": true,
    "ExecuteTime": {
     "end_time": "2023-07-04T02:50:13.105557699Z",
     "start_time": "2023-07-04T02:50:11.949639530Z"
    }
   },
   "outputs": [],
   "source": [
    "import pandas as pd\n",
    "from langchain.schema import Document\n",
    "from langchain.embeddings.openai import OpenAIEmbeddings\n",
    "from langchain.vectorstores import Chroma\n",
    "from langchain.llms import OpenAI\n",
    "from langchain.retrievers.self_query.base import SelfQueryRetriever\n",
    "from langchain.chains.query_constructor.base import AttributeInfo\n",
    "import json\n",
    "import os\n",
    "from langchain.chains.summarize import load_summarize_chain\n",
    "from tqdm import tqdm\n",
    "from langchain import PromptTemplate\n",
    "\n",
    "\n",
    "tqdm.pandas()"
   ]
  },
  {
   "cell_type": "code",
   "execution_count": 2,
   "outputs": [],
   "source": [
    "beer_jsons = []\n",
    "for f in os.listdir(\"./beer-database\"):\n",
    "    with open(\"./beer-database/\" + f, \"r\") as fp:\n",
    "        beer_jsons.extend(json.load(fp)[\"data\"])"
   ],
   "metadata": {
    "collapsed": false,
    "ExecuteTime": {
     "end_time": "2023-07-04T02:50:13.745080654Z",
     "start_time": "2023-07-04T02:50:13.109381871Z"
    }
   }
  },
  {
   "cell_type": "code",
   "execution_count": 3,
   "outputs": [
    {
     "data": {
      "text/plain": "       id                                    name  \\\n0  nKMJPZ                               Nova Vert   \n1  W7NmQw                  November Gale Pale Ale   \n2  sFzINW  November IPA of the Month - \"NovAmber\"   \n3  dB3Jip                              Now & Then   \n4  703UnG                 Nox Atra Imperial Stout   \n\n                                     nameDisplay  \\\n0                                      Nova Vert   \n1                         November Gale Pale Ale   \n2  November IPA of the Month - \"NovAmber\" (2014)   \n3                                     Now & Then   \n4                        Nox Atra Imperial Stout   \n\n                                         description  abv  availableId  \\\n0  We can build it. We have the technology. Make ...  6.8          2.0   \n1  A golden pale ale, this beer has medium malt c...    5          NaN   \n2  In the blustery month that brings us Thanksgiv...  6.9          3.0   \n3  A beer brewed to commemorate a fully evolved, ...    7          NaN   \n4  In Latin ‘Nox Atra’ means ‘Dark as Night’ – an...  8.5          NaN   \n\n   styleId isOrganic isRetired    status  ... beerVariation.style.srmMin  \\\n0       25         N         N  verified  ...                        NaN   \n1       25         N         N  verified  ...                        NaN   \n2       30         N         Y  verified  ...                        NaN   \n3       30         N         N  verified  ...                        NaN   \n4       43         N         N  verified  ...                        NaN   \n\n  beerVariation.style.srmMax beerVariation.style.ogMin  \\\n0                        NaN                       NaN   \n1                        NaN                       NaN   \n2                        NaN                       NaN   \n3                        NaN                       NaN   \n4                        NaN                       NaN   \n\n  beerVariation.style.fgMin beerVariation.style.fgMax  \\\n0                       NaN                       NaN   \n1                       NaN                       NaN   \n2                       NaN                       NaN   \n3                       NaN                       NaN   \n4                       NaN                       NaN   \n\n  beerVariation.style.createDate beerVariation.style.updateDate  \\\n0                            NaN                            NaN   \n1                            NaN                            NaN   \n2                            NaN                            NaN   \n3                            NaN                            NaN   \n4                            NaN                            NaN   \n\n  beerVariation.ibu beerVariation.year  beerVariation.style.ogMax  \n0               NaN                NaN                        NaN  \n1               NaN                NaN                        NaN  \n2               NaN                NaN                        NaN  \n3               NaN                NaN                        NaN  \n4               NaN                NaN                        NaN  \n\n[5 rows x 91 columns]",
      "text/html": "<div>\n<style scoped>\n    .dataframe tbody tr th:only-of-type {\n        vertical-align: middle;\n    }\n\n    .dataframe tbody tr th {\n        vertical-align: top;\n    }\n\n    .dataframe thead th {\n        text-align: right;\n    }\n</style>\n<table border=\"1\" class=\"dataframe\">\n  <thead>\n    <tr style=\"text-align: right;\">\n      <th></th>\n      <th>id</th>\n      <th>name</th>\n      <th>nameDisplay</th>\n      <th>description</th>\n      <th>abv</th>\n      <th>availableId</th>\n      <th>styleId</th>\n      <th>isOrganic</th>\n      <th>isRetired</th>\n      <th>status</th>\n      <th>...</th>\n      <th>beerVariation.style.srmMin</th>\n      <th>beerVariation.style.srmMax</th>\n      <th>beerVariation.style.ogMin</th>\n      <th>beerVariation.style.fgMin</th>\n      <th>beerVariation.style.fgMax</th>\n      <th>beerVariation.style.createDate</th>\n      <th>beerVariation.style.updateDate</th>\n      <th>beerVariation.ibu</th>\n      <th>beerVariation.year</th>\n      <th>beerVariation.style.ogMax</th>\n    </tr>\n  </thead>\n  <tbody>\n    <tr>\n      <th>0</th>\n      <td>nKMJPZ</td>\n      <td>Nova Vert</td>\n      <td>Nova Vert</td>\n      <td>We can build it. We have the technology. Make ...</td>\n      <td>6.8</td>\n      <td>2.0</td>\n      <td>25</td>\n      <td>N</td>\n      <td>N</td>\n      <td>verified</td>\n      <td>...</td>\n      <td>NaN</td>\n      <td>NaN</td>\n      <td>NaN</td>\n      <td>NaN</td>\n      <td>NaN</td>\n      <td>NaN</td>\n      <td>NaN</td>\n      <td>NaN</td>\n      <td>NaN</td>\n      <td>NaN</td>\n    </tr>\n    <tr>\n      <th>1</th>\n      <td>W7NmQw</td>\n      <td>November Gale Pale Ale</td>\n      <td>November Gale Pale Ale</td>\n      <td>A golden pale ale, this beer has medium malt c...</td>\n      <td>5</td>\n      <td>NaN</td>\n      <td>25</td>\n      <td>N</td>\n      <td>N</td>\n      <td>verified</td>\n      <td>...</td>\n      <td>NaN</td>\n      <td>NaN</td>\n      <td>NaN</td>\n      <td>NaN</td>\n      <td>NaN</td>\n      <td>NaN</td>\n      <td>NaN</td>\n      <td>NaN</td>\n      <td>NaN</td>\n      <td>NaN</td>\n    </tr>\n    <tr>\n      <th>2</th>\n      <td>sFzINW</td>\n      <td>November IPA of the Month - \"NovAmber\"</td>\n      <td>November IPA of the Month - \"NovAmber\" (2014)</td>\n      <td>In the blustery month that brings us Thanksgiv...</td>\n      <td>6.9</td>\n      <td>3.0</td>\n      <td>30</td>\n      <td>N</td>\n      <td>Y</td>\n      <td>verified</td>\n      <td>...</td>\n      <td>NaN</td>\n      <td>NaN</td>\n      <td>NaN</td>\n      <td>NaN</td>\n      <td>NaN</td>\n      <td>NaN</td>\n      <td>NaN</td>\n      <td>NaN</td>\n      <td>NaN</td>\n      <td>NaN</td>\n    </tr>\n    <tr>\n      <th>3</th>\n      <td>dB3Jip</td>\n      <td>Now &amp; Then</td>\n      <td>Now &amp; Then</td>\n      <td>A beer brewed to commemorate a fully evolved, ...</td>\n      <td>7</td>\n      <td>NaN</td>\n      <td>30</td>\n      <td>N</td>\n      <td>N</td>\n      <td>verified</td>\n      <td>...</td>\n      <td>NaN</td>\n      <td>NaN</td>\n      <td>NaN</td>\n      <td>NaN</td>\n      <td>NaN</td>\n      <td>NaN</td>\n      <td>NaN</td>\n      <td>NaN</td>\n      <td>NaN</td>\n      <td>NaN</td>\n    </tr>\n    <tr>\n      <th>4</th>\n      <td>703UnG</td>\n      <td>Nox Atra Imperial Stout</td>\n      <td>Nox Atra Imperial Stout</td>\n      <td>In Latin ‘Nox Atra’ means ‘Dark as Night’ – an...</td>\n      <td>8.5</td>\n      <td>NaN</td>\n      <td>43</td>\n      <td>N</td>\n      <td>N</td>\n      <td>verified</td>\n      <td>...</td>\n      <td>NaN</td>\n      <td>NaN</td>\n      <td>NaN</td>\n      <td>NaN</td>\n      <td>NaN</td>\n      <td>NaN</td>\n      <td>NaN</td>\n      <td>NaN</td>\n      <td>NaN</td>\n      <td>NaN</td>\n    </tr>\n  </tbody>\n</table>\n<p>5 rows × 91 columns</p>\n</div>"
     },
     "execution_count": 3,
     "metadata": {},
     "output_type": "execute_result"
    }
   ],
   "source": [
    "beer_df = pd.json_normalize(beer_jsons, max_level=None, record_prefix=True)\n",
    "beer_df.head()"
   ],
   "metadata": {
    "collapsed": false,
    "ExecuteTime": {
     "end_time": "2023-07-04T02:50:16.228126508Z",
     "start_time": "2023-07-04T02:50:13.756172668Z"
    }
   }
  },
  {
   "cell_type": "code",
   "execution_count": 4,
   "outputs": [
    {
     "data": {
      "text/plain": "description                        7626\nabv                                2604\navailableId                       16057\nlabels.contentAwareIcon             458\nlabels.contentAwareMedium           458\n                                  ...  \nbeerVariation.style.createDate    30000\nbeerVariation.style.updateDate    30000\nbeerVariation.ibu                 30061\nbeerVariation.year                30134\nbeerVariation.style.ogMax         30139\nLength: 70, dtype: int64"
     },
     "execution_count": 4,
     "metadata": {},
     "output_type": "execute_result"
    }
   ],
   "source": [
    "beer_na = beer_df.isna().sum(axis=0)\n",
    "beer_na[beer_na > 0]"
   ],
   "metadata": {
    "collapsed": false,
    "ExecuteTime": {
     "end_time": "2023-07-04T02:50:16.496372983Z",
     "start_time": "2023-07-04T02:50:16.223411841Z"
    }
   }
  },
  {
   "cell_type": "code",
   "execution_count": 5,
   "outputs": [
    {
     "data": {
      "text/plain": "        id           name    nameDisplay  \\\n16  9gPqS1   Numazu Lager   Numazu Lager   \n32  HCmqoo      Nut Brown      Nut Brown   \n33  UsMdAB  Nut Brown Ale  Nut Brown Ale   \n35  H8FoBz  Nut Brown Ale  Nut Brown Ale   \n36  blq7Dn  Nut Brown Ale  Nut Brown Ale   \n\n                                          description  abv  availableId  \\\n16  Clean, soft Numazu water combines with German ...  5.5          1.0   \n32  AleSmith Nut Brown is a tribute to one of our ...    5          1.0   \n33  Don't be intimidated by the rich walnut color....  4.2          1.0   \n35  BBC Nut Brown Ale has a diverse grain bill whi...  4.9          1.0   \n36  Like the rich, dark brews of southern England ...    5          1.0   \n\n    styleId isOrganic isRetired    status  ... beerVariation.style.srmMin  \\\n16       94         N         N  verified  ...                        NaN   \n32       12         N         N  verified  ...                        NaN   \n33       10         N         N  verified  ...                        NaN   \n35       10         N         N  verified  ...                        NaN   \n36       12         N         N  verified  ...                        NaN   \n\n   beerVariation.style.srmMax beerVariation.style.ogMin  \\\n16                        NaN                       NaN   \n32                        NaN                       NaN   \n33                        NaN                       NaN   \n35                        NaN                       NaN   \n36                        NaN                       NaN   \n\n   beerVariation.style.fgMin beerVariation.style.fgMax  \\\n16                       NaN                       NaN   \n32                       NaN                       NaN   \n33                       NaN                       NaN   \n35                       NaN                       NaN   \n36                       NaN                       NaN   \n\n   beerVariation.style.createDate beerVariation.style.updateDate  \\\n16                            NaN                            NaN   \n32                            NaN                            NaN   \n33                            NaN                            NaN   \n35                            NaN                            NaN   \n36                            NaN                            NaN   \n\n   beerVariation.ibu beerVariation.year  beerVariation.style.ogMax  \n16               NaN                NaN                        NaN  \n32               NaN                NaN                        NaN  \n33               NaN                NaN                        NaN  \n35               NaN                NaN                        NaN  \n36               NaN                NaN                        NaN  \n\n[5 rows x 91 columns]",
      "text/html": "<div>\n<style scoped>\n    .dataframe tbody tr th:only-of-type {\n        vertical-align: middle;\n    }\n\n    .dataframe tbody tr th {\n        vertical-align: top;\n    }\n\n    .dataframe thead th {\n        text-align: right;\n    }\n</style>\n<table border=\"1\" class=\"dataframe\">\n  <thead>\n    <tr style=\"text-align: right;\">\n      <th></th>\n      <th>id</th>\n      <th>name</th>\n      <th>nameDisplay</th>\n      <th>description</th>\n      <th>abv</th>\n      <th>availableId</th>\n      <th>styleId</th>\n      <th>isOrganic</th>\n      <th>isRetired</th>\n      <th>status</th>\n      <th>...</th>\n      <th>beerVariation.style.srmMin</th>\n      <th>beerVariation.style.srmMax</th>\n      <th>beerVariation.style.ogMin</th>\n      <th>beerVariation.style.fgMin</th>\n      <th>beerVariation.style.fgMax</th>\n      <th>beerVariation.style.createDate</th>\n      <th>beerVariation.style.updateDate</th>\n      <th>beerVariation.ibu</th>\n      <th>beerVariation.year</th>\n      <th>beerVariation.style.ogMax</th>\n    </tr>\n  </thead>\n  <tbody>\n    <tr>\n      <th>16</th>\n      <td>9gPqS1</td>\n      <td>Numazu Lager</td>\n      <td>Numazu Lager</td>\n      <td>Clean, soft Numazu water combines with German ...</td>\n      <td>5.5</td>\n      <td>1.0</td>\n      <td>94</td>\n      <td>N</td>\n      <td>N</td>\n      <td>verified</td>\n      <td>...</td>\n      <td>NaN</td>\n      <td>NaN</td>\n      <td>NaN</td>\n      <td>NaN</td>\n      <td>NaN</td>\n      <td>NaN</td>\n      <td>NaN</td>\n      <td>NaN</td>\n      <td>NaN</td>\n      <td>NaN</td>\n    </tr>\n    <tr>\n      <th>32</th>\n      <td>HCmqoo</td>\n      <td>Nut Brown</td>\n      <td>Nut Brown</td>\n      <td>AleSmith Nut Brown is a tribute to one of our ...</td>\n      <td>5</td>\n      <td>1.0</td>\n      <td>12</td>\n      <td>N</td>\n      <td>N</td>\n      <td>verified</td>\n      <td>...</td>\n      <td>NaN</td>\n      <td>NaN</td>\n      <td>NaN</td>\n      <td>NaN</td>\n      <td>NaN</td>\n      <td>NaN</td>\n      <td>NaN</td>\n      <td>NaN</td>\n      <td>NaN</td>\n      <td>NaN</td>\n    </tr>\n    <tr>\n      <th>33</th>\n      <td>UsMdAB</td>\n      <td>Nut Brown Ale</td>\n      <td>Nut Brown Ale</td>\n      <td>Don't be intimidated by the rich walnut color....</td>\n      <td>4.2</td>\n      <td>1.0</td>\n      <td>10</td>\n      <td>N</td>\n      <td>N</td>\n      <td>verified</td>\n      <td>...</td>\n      <td>NaN</td>\n      <td>NaN</td>\n      <td>NaN</td>\n      <td>NaN</td>\n      <td>NaN</td>\n      <td>NaN</td>\n      <td>NaN</td>\n      <td>NaN</td>\n      <td>NaN</td>\n      <td>NaN</td>\n    </tr>\n    <tr>\n      <th>35</th>\n      <td>H8FoBz</td>\n      <td>Nut Brown Ale</td>\n      <td>Nut Brown Ale</td>\n      <td>BBC Nut Brown Ale has a diverse grain bill whi...</td>\n      <td>4.9</td>\n      <td>1.0</td>\n      <td>10</td>\n      <td>N</td>\n      <td>N</td>\n      <td>verified</td>\n      <td>...</td>\n      <td>NaN</td>\n      <td>NaN</td>\n      <td>NaN</td>\n      <td>NaN</td>\n      <td>NaN</td>\n      <td>NaN</td>\n      <td>NaN</td>\n      <td>NaN</td>\n      <td>NaN</td>\n      <td>NaN</td>\n    </tr>\n    <tr>\n      <th>36</th>\n      <td>blq7Dn</td>\n      <td>Nut Brown Ale</td>\n      <td>Nut Brown Ale</td>\n      <td>Like the rich, dark brews of southern England ...</td>\n      <td>5</td>\n      <td>1.0</td>\n      <td>12</td>\n      <td>N</td>\n      <td>N</td>\n      <td>verified</td>\n      <td>...</td>\n      <td>NaN</td>\n      <td>NaN</td>\n      <td>NaN</td>\n      <td>NaN</td>\n      <td>NaN</td>\n      <td>NaN</td>\n      <td>NaN</td>\n      <td>NaN</td>\n      <td>NaN</td>\n      <td>NaN</td>\n    </tr>\n  </tbody>\n</table>\n<p>5 rows × 91 columns</p>\n</div>"
     },
     "execution_count": 5,
     "metadata": {},
     "output_type": "execute_result"
    }
   ],
   "source": [
    "beer_df_filter = beer_df.loc[~beer_df.description.isna()]\n",
    "beer_df_filter = beer_df_filter.loc[~beer_df.availableId.isna()]\n",
    "beer_df_filter = beer_df_filter.loc[~beer_df.abv.isna()]\n",
    "beer_df_filter = beer_df_filter.loc[beer_df[\"available.name\"] == \"Year Round\"]\n",
    "\n",
    "beer_na = beer_df_filter.isna().sum(axis=0)\n",
    "beer_df_filter.head()"
   ],
   "metadata": {
    "collapsed": false,
    "ExecuteTime": {
     "end_time": "2023-07-04T02:50:16.718563304Z",
     "start_time": "2023-07-04T02:50:16.501627955Z"
    }
   }
  },
  {
   "cell_type": "code",
   "execution_count": 6,
   "outputs": [
    {
     "data": {
      "text/plain": "5531"
     },
     "execution_count": 6,
     "metadata": {},
     "output_type": "execute_result"
    }
   ],
   "source": [
    "len(beer_df_filter.index)"
   ],
   "metadata": {
    "collapsed": false,
    "ExecuteTime": {
     "end_time": "2023-07-04T02:50:16.718759911Z",
     "start_time": "2023-07-04T02:50:16.711212629Z"
    }
   }
  },
  {
   "cell_type": "code",
   "execution_count": 7,
   "outputs": [
    {
     "data": {
      "text/plain": "             name                                        description  abv  \\\n16   Numazu Lager  Clean, soft Numazu water combines with German ...  5.5   \n32      Nut Brown  AleSmith Nut Brown is a tribute to one of our ...  5.0   \n33  Nut Brown Ale  Don't be intimidated by the rich walnut color....  4.2   \n35  Nut Brown Ale  BBC Nut Brown Ale has a diverse grain bill whi...  4.9   \n36  Nut Brown Ale  Like the rich, dark brews of southern England ...  5.0   \n\n     ibu  srm.name   style.category.name  \\\n16  -1.0        -1  North American Lager   \n32  17.0        25   British Origin Ales   \n33  -1.0        -1   British Origin Ales   \n35  29.0        -1   British Origin Ales   \n36  23.0        -1   British Origin Ales   \n\n                                  style.name  \\\n16  American-Style Light (Low Calorie) Lager   \n32                   English-Style Brown Ale   \n33               English-Style Pale Mild Ale   \n35               English-Style Pale Mild Ale   \n36                   English-Style Brown Ale   \n\n                                    style.description  \n16  These beers are extremely light colored, light...  \n32  English brown ales range from copper to brown ...  \n33  English pale mild ales range from golden to am...  \n35  English pale mild ales range from golden to am...  \n36  English brown ales range from copper to brown ...  ",
      "text/html": "<div>\n<style scoped>\n    .dataframe tbody tr th:only-of-type {\n        vertical-align: middle;\n    }\n\n    .dataframe tbody tr th {\n        vertical-align: top;\n    }\n\n    .dataframe thead th {\n        text-align: right;\n    }\n</style>\n<table border=\"1\" class=\"dataframe\">\n  <thead>\n    <tr style=\"text-align: right;\">\n      <th></th>\n      <th>name</th>\n      <th>description</th>\n      <th>abv</th>\n      <th>ibu</th>\n      <th>srm.name</th>\n      <th>style.category.name</th>\n      <th>style.name</th>\n      <th>style.description</th>\n    </tr>\n  </thead>\n  <tbody>\n    <tr>\n      <th>16</th>\n      <td>Numazu Lager</td>\n      <td>Clean, soft Numazu water combines with German ...</td>\n      <td>5.5</td>\n      <td>-1.0</td>\n      <td>-1</td>\n      <td>North American Lager</td>\n      <td>American-Style Light (Low Calorie) Lager</td>\n      <td>These beers are extremely light colored, light...</td>\n    </tr>\n    <tr>\n      <th>32</th>\n      <td>Nut Brown</td>\n      <td>AleSmith Nut Brown is a tribute to one of our ...</td>\n      <td>5.0</td>\n      <td>17.0</td>\n      <td>25</td>\n      <td>British Origin Ales</td>\n      <td>English-Style Brown Ale</td>\n      <td>English brown ales range from copper to brown ...</td>\n    </tr>\n    <tr>\n      <th>33</th>\n      <td>Nut Brown Ale</td>\n      <td>Don't be intimidated by the rich walnut color....</td>\n      <td>4.2</td>\n      <td>-1.0</td>\n      <td>-1</td>\n      <td>British Origin Ales</td>\n      <td>English-Style Pale Mild Ale</td>\n      <td>English pale mild ales range from golden to am...</td>\n    </tr>\n    <tr>\n      <th>35</th>\n      <td>Nut Brown Ale</td>\n      <td>BBC Nut Brown Ale has a diverse grain bill whi...</td>\n      <td>4.9</td>\n      <td>29.0</td>\n      <td>-1</td>\n      <td>British Origin Ales</td>\n      <td>English-Style Pale Mild Ale</td>\n      <td>English pale mild ales range from golden to am...</td>\n    </tr>\n    <tr>\n      <th>36</th>\n      <td>Nut Brown Ale</td>\n      <td>Like the rich, dark brews of southern England ...</td>\n      <td>5.0</td>\n      <td>23.0</td>\n      <td>-1</td>\n      <td>British Origin Ales</td>\n      <td>English-Style Brown Ale</td>\n      <td>English brown ales range from copper to brown ...</td>\n    </tr>\n  </tbody>\n</table>\n</div>"
     },
     "execution_count": 7,
     "metadata": {},
     "output_type": "execute_result"
    }
   ],
   "source": [
    "fields_of_interests = [\n",
    "    \"name\",\n",
    "    \"description\",\n",
    "    \"abv\",\n",
    "    \"ibu\",\n",
    "    \"srm.name\",\n",
    "    \"style.category.name\",\n",
    "    \"style.name\",\n",
    "    \"style.description\"\n",
    "]\n",
    "\n",
    "beer_select_df = beer_df_filter[fields_of_interests].copy()\n",
    "beer_select_df.loc[beer_select_df.abv.isna(), \"abv\"] = -1\n",
    "beer_select_df[\"abv\"] = pd.to_numeric(beer_select_df[\"abv\"])\n",
    "beer_select_df.loc[beer_select_df.ibu.isna(), \"ibu\"] = -1\n",
    "beer_select_df[\"ibu\"] = pd.to_numeric(beer_select_df[\"ibu\"])\n",
    "beer_select_df.loc[beer_select_df[\"srm.name\"] == \"Over 40\", \"srm.name\"] = \"41\"\n",
    "beer_select_df[\"srm.name\"] = pd.to_numeric(beer_select_df[\"srm.name\"].fillna(\"-1\"))\n",
    "\n",
    "for c in [\"name\", \"style.category.name\", \"style.name\", \"style.description\"]:\n",
    "    beer_select_df.loc[beer_select_df[c].isna(), c] = \"Unknown\"\n",
    "beer_select_df.head()"
   ],
   "metadata": {
    "collapsed": false,
    "ExecuteTime": {
     "end_time": "2023-07-04T02:50:16.718926696Z",
     "start_time": "2023-07-04T02:50:16.711385490Z"
    }
   }
  },
  {
   "cell_type": "code",
   "execution_count": 8,
   "outputs": [
    {
     "data": {
      "text/plain": "count    5531.000000\nmean        6.002440\nstd         1.533078\nmin         0.000000\n25%         5.000000\n50%         5.600000\n75%         6.800000\nmax        22.000000\nName: abv, dtype: float64"
     },
     "execution_count": 8,
     "metadata": {},
     "output_type": "execute_result"
    }
   ],
   "source": [
    "beer_select_df.loc[beer_select_df[\"abv\"] >= 0, \"abv\"].describe()"
   ],
   "metadata": {
    "collapsed": false,
    "ExecuteTime": {
     "end_time": "2023-07-04T02:50:16.749771438Z",
     "start_time": "2023-07-04T02:50:16.711439758Z"
    }
   }
  },
  {
   "cell_type": "code",
   "execution_count": 9,
   "outputs": [
    {
     "data": {
      "text/plain": "count    3642.000000\nmean       39.686826\nstd        24.142273\nmin         0.000000\n25%        21.000000\n50%        33.000000\n75%        55.000000\nmax       200.000000\nName: ibu, dtype: float64"
     },
     "execution_count": 9,
     "metadata": {},
     "output_type": "execute_result"
    }
   ],
   "source": [
    "beer_select_df.loc[beer_select_df[\"ibu\"] >= 0, \"ibu\"].describe()"
   ],
   "metadata": {
    "collapsed": false,
    "ExecuteTime": {
     "end_time": "2023-07-04T02:50:16.809784976Z",
     "start_time": "2023-07-04T02:50:16.753687454Z"
    }
   }
  },
  {
   "cell_type": "code",
   "execution_count": 10,
   "outputs": [
    {
     "data": {
      "text/plain": "count    1500.000000\nmean       14.444667\nstd        12.395754\nmin         1.000000\n25%         5.000000\n50%         9.000000\n75%        20.000000\nmax        41.000000\nName: srm.name, dtype: float64"
     },
     "execution_count": 10,
     "metadata": {},
     "output_type": "execute_result"
    }
   ],
   "source": [
    "beer_select_df.loc[beer_select_df[\"srm.name\"] >= 0, \"srm.name\"].describe()"
   ],
   "metadata": {
    "collapsed": false,
    "ExecuteTime": {
     "end_time": "2023-07-04T02:50:16.810049331Z",
     "start_time": "2023-07-04T02:50:16.753900125Z"
    }
   }
  },
  {
   "cell_type": "code",
   "execution_count": 11,
   "outputs": [],
   "source": [
    "API_KEY = \"./api_key\"\n",
    "with open(API_KEY, \"r\") as fp:\n",
    "    key_content = fp.read().strip()"
   ],
   "metadata": {
    "collapsed": false,
    "ExecuteTime": {
     "end_time": "2023-07-04T02:50:16.810107510Z",
     "start_time": "2023-07-04T02:50:16.753964520Z"
    }
   }
  },
  {
   "cell_type": "code",
   "execution_count": 12,
   "outputs": [],
   "source": [
    "DESC_TEMPLATE = \"\"\"Name of beer: %s\n",
    "\n",
    "\n",
    "Category of Beer: %s\n",
    "\n",
    "\n",
    "Style of Beer: %s\n",
    "\n",
    "\n",
    "Description of Style: %s\n",
    "\n",
    "\n",
    "Description of Beer: %s\n",
    "\"\"\"\n",
    "\n",
    "summary_prompt_template = \"Write a concise summary of the following beer. \" \\\n",
    "                          \"The summary should contain sufficient information to let a consumer decide if he likes the beer.\" \\\n",
    "                          \"\\n\\n{text}\\n\\nSUMMARY:\"\n",
    "PROMPT = PromptTemplate(template=summary_prompt_template, input_variables=[\"text\"])\n",
    "\n",
    "\n",
    "llm = OpenAI(openai_api_key=key_content, temperature=0)\n",
    "summary_chain = load_summarize_chain(llm, chain_type=\"stuff\", prompt=PROMPT)\n",
    "\n",
    "\n",
    "def generate_beer_summary(row):\n",
    "    beer_desc = DESC_TEMPLATE % (row[\"name\"], row[\"style.category.name\"],\n",
    "                                 row[\"style.name\"], row[\"style.description\"], row[\"description\"])\n",
    "    return summary_chain({\"input_documents\":\n",
    "                              [Document(page_content=beer_desc)]},\n",
    "                         return_only_outputs=True)[\"output_text\"].strip()\n",
    "\n",
    "\n",
    "#beer_select_df[\"summary\"] = beer_select_df.progress_apply(generate_beer_summary, axis=1)\n",
    "beer_select_df = pd.read_json(\"./beer.json\")"
   ],
   "metadata": {
    "collapsed": false,
    "ExecuteTime": {
     "end_time": "2023-07-04T02:50:16.826313832Z",
     "start_time": "2023-07-04T02:50:16.754009010Z"
    }
   }
  },
  {
   "cell_type": "code",
   "execution_count": 13,
   "outputs": [
    {
     "data": {
      "text/plain": "             name                                        description  abv  \\\n16   Numazu Lager  Clean, soft Numazu water combines with German ...  5.5   \n32      Nut Brown  AleSmith Nut Brown is a tribute to one of our ...  5.0   \n33  Nut Brown Ale  Don't be intimidated by the rich walnut color....  4.2   \n35  Nut Brown Ale  BBC Nut Brown Ale has a diverse grain bill whi...  4.9   \n36  Nut Brown Ale  Like the rich, dark brews of southern England ...  5.0   \n\n     ibu  srm.name   style.category.name  \\\n16  -1.0        -1  North American Lager   \n32  17.0        25   British Origin Ales   \n33  -1.0        -1   British Origin Ales   \n35  29.0        -1   British Origin Ales   \n36  23.0        -1   British Origin Ales   \n\n                                  style.name  \\\n16  American-Style Light (Low Calorie) Lager   \n32                   English-Style Brown Ale   \n33               English-Style Pale Mild Ale   \n35               English-Style Pale Mild Ale   \n36                   English-Style Brown Ale   \n\n                                    style.description  \\\n16  These beers are extremely light colored, light...   \n32  English brown ales range from copper to brown ...   \n33  English pale mild ales range from golden to am...   \n35  English pale mild ales range from golden to am...   \n36  English brown ales range from copper to brown ...   \n\n                                              summary  \n16  Numazu Lager is an American-Style Light (Low C...  \n32  AleSmith Nut Brown is a British-style brown al...  \n33  Nut Brown Ale is a British Origin Ale with an ...  \n35  BBC Nut Brown Ale is a traditional English-sty...  \n36  Nut Brown Ale is a British Origin Ale, specifi...  ",
      "text/html": "<div>\n<style scoped>\n    .dataframe tbody tr th:only-of-type {\n        vertical-align: middle;\n    }\n\n    .dataframe tbody tr th {\n        vertical-align: top;\n    }\n\n    .dataframe thead th {\n        text-align: right;\n    }\n</style>\n<table border=\"1\" class=\"dataframe\">\n  <thead>\n    <tr style=\"text-align: right;\">\n      <th></th>\n      <th>name</th>\n      <th>description</th>\n      <th>abv</th>\n      <th>ibu</th>\n      <th>srm.name</th>\n      <th>style.category.name</th>\n      <th>style.name</th>\n      <th>style.description</th>\n      <th>summary</th>\n    </tr>\n  </thead>\n  <tbody>\n    <tr>\n      <th>16</th>\n      <td>Numazu Lager</td>\n      <td>Clean, soft Numazu water combines with German ...</td>\n      <td>5.5</td>\n      <td>-1.0</td>\n      <td>-1</td>\n      <td>North American Lager</td>\n      <td>American-Style Light (Low Calorie) Lager</td>\n      <td>These beers are extremely light colored, light...</td>\n      <td>Numazu Lager is an American-Style Light (Low C...</td>\n    </tr>\n    <tr>\n      <th>32</th>\n      <td>Nut Brown</td>\n      <td>AleSmith Nut Brown is a tribute to one of our ...</td>\n      <td>5.0</td>\n      <td>17.0</td>\n      <td>25</td>\n      <td>British Origin Ales</td>\n      <td>English-Style Brown Ale</td>\n      <td>English brown ales range from copper to brown ...</td>\n      <td>AleSmith Nut Brown is a British-style brown al...</td>\n    </tr>\n    <tr>\n      <th>33</th>\n      <td>Nut Brown Ale</td>\n      <td>Don't be intimidated by the rich walnut color....</td>\n      <td>4.2</td>\n      <td>-1.0</td>\n      <td>-1</td>\n      <td>British Origin Ales</td>\n      <td>English-Style Pale Mild Ale</td>\n      <td>English pale mild ales range from golden to am...</td>\n      <td>Nut Brown Ale is a British Origin Ale with an ...</td>\n    </tr>\n    <tr>\n      <th>35</th>\n      <td>Nut Brown Ale</td>\n      <td>BBC Nut Brown Ale has a diverse grain bill whi...</td>\n      <td>4.9</td>\n      <td>29.0</td>\n      <td>-1</td>\n      <td>British Origin Ales</td>\n      <td>English-Style Pale Mild Ale</td>\n      <td>English pale mild ales range from golden to am...</td>\n      <td>BBC Nut Brown Ale is a traditional English-sty...</td>\n    </tr>\n    <tr>\n      <th>36</th>\n      <td>Nut Brown Ale</td>\n      <td>Like the rich, dark brews of southern England ...</td>\n      <td>5.0</td>\n      <td>23.0</td>\n      <td>-1</td>\n      <td>British Origin Ales</td>\n      <td>English-Style Brown Ale</td>\n      <td>English brown ales range from copper to brown ...</td>\n      <td>Nut Brown Ale is a British Origin Ale, specifi...</td>\n    </tr>\n  </tbody>\n</table>\n</div>"
     },
     "execution_count": 13,
     "metadata": {},
     "output_type": "execute_result"
    }
   ],
   "source": [
    "beer_select_df.head()"
   ],
   "metadata": {
    "collapsed": false,
    "ExecuteTime": {
     "end_time": "2023-07-04T02:50:16.886553591Z",
     "start_time": "2023-07-04T02:50:16.794503513Z"
    }
   }
  },
  {
   "cell_type": "code",
   "execution_count": 14,
   "outputs": [
    {
     "name": "stderr",
     "output_type": "stream",
     "text": [
      "100%|██████████| 5531/5531 [00:00<00:00, 74439.73it/s]\n"
     ]
    }
   ],
   "source": [
    "def append_beer_info(row):\n",
    "    info_desc = \" The ABV of %s is %s %%. The IBU is %s. The SRM is %s.\"\n",
    "    abv = row[\"abv\"]\n",
    "    ibu = row[\"ibu\"]\n",
    "    srm = row[\"srm.name\"]\n",
    "    if abv < 0:\n",
    "        abv = \"unknown\"\n",
    "    if ibu < 0:\n",
    "        ibu = \"unknown\"\n",
    "    if srm < 0:\n",
    "        srm = \"unknown\"\n",
    "    return row[\"summary\"] + info_desc % (row[\"name\"], abv, ibu, srm)\n",
    "\n",
    "#beer_select_df[\"summary\"] = beer_select_df.progress_apply(append_beer_info, axis=1)"
   ],
   "metadata": {
    "collapsed": false,
    "ExecuteTime": {
     "end_time": "2023-07-04T02:50:16.972774589Z",
     "start_time": "2023-07-04T02:50:16.859907937Z"
    }
   }
  },
  {
   "cell_type": "code",
   "execution_count": 15,
   "outputs": [
    {
     "data": {
      "text/plain": "5531"
     },
     "execution_count": 15,
     "metadata": {},
     "output_type": "execute_result"
    }
   ],
   "source": [
    "metadata_field_info = [\n",
    "    AttributeInfo(\n",
    "        name=\"name\",\n",
    "        description=\"The name of the beer\",\n",
    "        type=\"string\",\n",
    "    ),\n",
    "    AttributeInfo(\n",
    "        name=\"abv\",\n",
    "        description=\"The alcohol content of the beer in ABV percent. The mean of ABV is 6, and the standard deviation of ABV is 1.53. \"\n",
    "                    \"The min, 25 percentile, 50 percentile, 75 percentile, and max of ABV are 0, 5, 5.6, 6.8, and 22. \"\n",
    "                    \"The value is set to -1 if the ABV is not available.\",\n",
    "        type='float',\n",
    "    ),\n",
    "    AttributeInfo(\n",
    "        name=\"ibu\",\n",
    "        description=\"The biterness of the beer measured in IBU (International Bittering Unit). The mean of IBU is 39.69, \"\n",
    "                    \"and the standard deviation of IBU is 24.14. The min, 25 percentile, 50 percentile, 75 percentile, and max of IBU is \"\n",
    "                    \"0, 21, 33, 55, and 200. \"\n",
    "                    \"The value is set to -1 if the ABV is not available.\",\n",
    "        type='float',\n",
    "    ),\n",
    "    AttributeInfo(\n",
    "        name=\"srm\", description=\"The Standard Reference Method (SRM) value of the beer. The mean of SRM is 14.44, \"\n",
    "                                \"and the standard deviation is 12.4. \"\n",
    "                                \"The min, 25 percentile, 50 percentile, 75 percentile, and max of SRM is \"\n",
    "                                \"1, 5, 8, 20, and 41. \"\n",
    "                                \"The value is set to -1 if the ABV is not available.\",\n",
    "        type='integer'\n",
    "    )\n",
    "]\n",
    "\n",
    "docs = []\n",
    "for i, r in beer_select_df.iterrows():\n",
    "    meta_info = {\n",
    "        \"name\": r[\"name\"],\n",
    "        \"abv\": r[\"abv\"],\n",
    "        \"ibu\": r[\"ibu\"],\n",
    "        \"srm\": r[\"srm.name\"]\n",
    "    }\n",
    "    docs.append(\n",
    "        Document(\n",
    "            page_content=r[\"summary\"],\n",
    "            metadata=meta_info\n",
    "        )\n",
    "    )\n",
    "\n",
    "document_content_description = \"Description of a beer\"\n",
    "len(docs)"
   ],
   "metadata": {
    "collapsed": false,
    "ExecuteTime": {
     "end_time": "2023-07-04T02:50:18.087490641Z",
     "start_time": "2023-07-04T02:50:17.519449148Z"
    }
   }
  },
  {
   "cell_type": "code",
   "execution_count": 16,
   "outputs": [],
   "source": [
    "embeddings = OpenAIEmbeddings(openai_api_key=key_content)\n",
    "vectorstore = Chroma.from_documents(docs, embeddings, persist_directory=\"./beer_vectors\")\n",
    "retriever = SelfQueryRetriever.from_llm(\n",
    "    llm, vectorstore, document_content_description, metadata_field_info, verbose=True\n",
    ")"
   ],
   "metadata": {
    "collapsed": false,
    "ExecuteTime": {
     "end_time": "2023-07-04T02:50:46.654062192Z",
     "start_time": "2023-07-04T02:50:19.701386671Z"
    }
   }
  },
  {
   "cell_type": "code",
   "execution_count": 17,
   "outputs": [
    {
     "name": "stdout",
     "output_type": "stream",
     "text": [
      "query='light beer' filter=Operation(operator=<Operator.AND: 'and'>, arguments=[Comparison(comparator=<Comparator.GT: 'gt'>, attribute='abv', value=6.8), Comparison(comparator=<Comparator.LT: 'lt'>, attribute='srm', value=8)]) limit=None\n"
     ]
    },
    {
     "data": {
      "text/plain": "[Document(page_content='Beer Camp Hoppy Lager is a North American Lager with a light body and straw color. It is clean and crisp with subtle and complex flavors, light malt sweetness, and very light hop bitterness, flavor, and aroma. It is a collaboration between Beer Camp and Ballast Point, and is perfect for hop lovers. The ABV of Beer Camp Hoppy Lager is 7.0 %. The IBU is 55.0. The SRM is -1.', metadata={'name': 'Beer Camp Hoppy Lager', 'abv': 7.0, 'ibu': 55.0, 'srm': -1}),\n Document(page_content='Beer Camp Hoppy Lager is a North American Lager with a light body and straw color. It is clean and crisp with subtle and complex flavors, light malt sweetness, and very light hop bitterness, flavor, and aroma. It is a collaboration between Beer Camp and Ballast Point, and is perfect for hop lovers. The ABV of Beer Camp Hoppy Lager is 7.0 %. The IBU is 55.0. The SRM is unknown.', metadata={'name': 'Beer Camp Hoppy Lager', 'abv': 7.0, 'ibu': 55.0, 'srm': -1}),\n Document(page_content='TESTBEER is an American-Style Amber/Red Ale with a medium-high to high maltiness and medium to low caramel character. It has a generous dose of Centennial and Colombus hops that give it a pure American hop character. It is perfect for hop-heads looking for a classic American Style India Pale Ale. The ABV of TESTBEER is 8.0 %. The IBU is 57.0. The SRM is -1.', metadata={'name': 'TESTBEER', 'abv': 8.0, 'ibu': 57.0, 'srm': -1}),\n Document(page_content='TESTBEER is an American-Style Amber/Red Ale with a medium-high to high maltiness and medium to low caramel character. It has a generous dose of Centennial and Colombus hops that give it a pure American hop character. It is perfect for hop-heads looking for a classic American Style India Pale Ale. The ABV of TESTBEER is 8.0 %. The IBU is 57.0. The SRM is unknown.', metadata={'name': 'TESTBEER', 'abv': 8.0, 'ibu': 57.0, 'srm': -1})]"
     },
     "execution_count": 17,
     "metadata": {},
     "output_type": "execute_result"
    }
   ],
   "source": [
    "retriever.get_relevant_documents('Which light beers have high alcohol contents?')"
   ],
   "metadata": {
    "collapsed": false,
    "ExecuteTime": {
     "end_time": "2023-07-04T02:50:55.631365461Z",
     "start_time": "2023-07-04T02:50:46.697750597Z"
    }
   }
  },
  {
   "cell_type": "code",
   "execution_count": 18,
   "outputs": [],
   "source": [
    "#beer_select_df.to_json(\"beer.json\")"
   ],
   "metadata": {
    "collapsed": false,
    "ExecuteTime": {
     "end_time": "2023-07-04T02:51:02.169679679Z",
     "start_time": "2023-07-04T02:51:02.088895476Z"
    }
   }
  },
  {
   "cell_type": "code",
   "execution_count": 19,
   "outputs": [
    {
     "data": {
      "text/plain": "FloatProgress(value=0.0, layout=Layout(width='auto'), style=ProgressStyle(bar_color='black'))",
      "application/vnd.jupyter.widget-view+json": {
       "version_major": 2,
       "version_minor": 0,
       "model_id": "42674a93dbaf4fa6b6875114d5d28187"
      }
     },
     "metadata": {},
     "output_type": "display_data"
    }
   ],
   "source": [
    "#vectorstore.persist()"
   ],
   "metadata": {
    "collapsed": false,
    "ExecuteTime": {
     "end_time": "2023-07-04T02:51:05.634398900Z",
     "start_time": "2023-07-04T02:51:02.900082067Z"
    }
   }
  },
  {
   "cell_type": "code",
   "execution_count": null,
   "outputs": [],
   "source": [],
   "metadata": {
    "collapsed": false
   }
  }
 ],
 "metadata": {
  "kernelspec": {
   "display_name": "Python 3",
   "language": "python",
   "name": "python3"
  },
  "language_info": {
   "codemirror_mode": {
    "name": "ipython",
    "version": 2
   },
   "file_extension": ".py",
   "mimetype": "text/x-python",
   "name": "python",
   "nbconvert_exporter": "python",
   "pygments_lexer": "ipython2",
   "version": "2.7.6"
  }
 },
 "nbformat": 4,
 "nbformat_minor": 0
}
